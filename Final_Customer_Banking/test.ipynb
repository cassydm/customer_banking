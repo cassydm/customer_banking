{
 "cells": [
  {
   "cell_type": "code",
   "execution_count": 9,
   "metadata": {},
   "outputs": [],
   "source": [
    "#import account class from account.py\n",
    "from AccountClass import Account\n",
    "# Create an instance of the `Account` class and pass in the balance and interest parameters.\n",
    "def create_savings_account(balance,interest,months):\n",
    "    \"\"\"Creates a savings account, calculates interest earned, and updates the account balance.\n",
    "\n",
    "    Args:\n",
    "        balance (float): The initial savings account balance.\n",
    "        interest (float): The APR interest rate for the savings account.\n",
    "        months (int): The length of months to determine the amount of interest.\n",
    "\n",
    "    Returns:\n",
    "        float: The updated savings account balance after adding the interest earned.\n",
    "        And returns the interest earned.\n",
    "    \"\"\"\n",
    "    #creating the instance of Account\n",
    "    my_account=Account(balance,interest)\n",
    "    #printing intitial balance information\n",
    "    print(f\"Your Savings account details:\")\n",
    "    print(\"-\"*42)\n",
    "    print(f\"Starting balance: ${my_account.balance:,.2f}\")\n",
    "    print(f\"APR: {interest:.2f}%\")\n",
    "    print(f\"Months: {months}\")\n",
    "    print(\"-\"*42)\n",
    "    #performing calculations and storing as variables\n",
    "    earned_interest = balance * (interest / 100 * months / 12)\n",
    "    updated_balance = balance+earned_interest\n",
    "    #using the Account class functions to update the balance and interest earned.\n",
    "    my_account.set_interest(earned_interest)\n",
    "    my_account.set_balance(updated_balance)\n",
    "    #printing the information for the user\n",
    "    print(f\"Earned interest on ${balance:,.2f} after {months} months: ${my_account.interest:,.2f}\")\n",
    "    print(f\"Your new balance is ${my_account.balance:,.2f}\")\n",
    "    print(\"-\"*42)\n",
    "    #returning account instance for input function\n",
    "    return my_account"
   ]
  }
 ],
 "metadata": {
  "kernelspec": {
   "display_name": "base",
   "language": "python",
   "name": "python3"
  },
  "language_info": {
   "codemirror_mode": {
    "name": "ipython",
    "version": 3
   },
   "file_extension": ".py",
   "mimetype": "text/x-python",
   "name": "python",
   "nbconvert_exporter": "python",
   "pygments_lexer": "ipython3",
   "version": "3.11.7"
  }
 },
 "nbformat": 4,
 "nbformat_minor": 2
}
