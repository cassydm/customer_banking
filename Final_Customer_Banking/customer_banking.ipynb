{
 "cells": [
  {
   "cell_type": "code",
   "execution_count": 31,
   "metadata": {},
   "outputs": [],
   "source": [
    "#importing functions\n",
    "from Savings_Account import create_savings_account\n",
    "from CD_Account import create_cd_account"
   ]
  },
  {
   "cell_type": "code",
   "execution_count": 32,
   "metadata": {},
   "outputs": [
    {
     "name": "stdout",
     "output_type": "stream",
     "text": [
      "Your Savings account details:\n",
      "------------------------------------------\n",
      "Starting balance: $1.00\n",
      "APR: 2.00%\n",
      "Months: 3\n",
      "------------------------------------------\n",
      "Earned interest on $1.00 after 3 months: $0.01\n",
      "Your new balance is $1.00\n",
      "------------------------------------------\n",
      "Your CD account details:\n",
      "------------------------------------------\n",
      "Starting balance: $4.00\n",
      "APR: 5.00%\n",
      "Months: 6\n",
      "------------------------------------------\n",
      "Earned interest on $4.00 after 6 months: $0.10\n",
      "Your new balance is $4.10\n",
      "------------------------------------------\n",
      "TOTAL\n",
      "------------------------------------------\n",
      "At the end of the CD and Savings Account durations,\n",
      "you will have earned $0.11 in interest,\n",
      "for a total of $5.10.\n"
     ]
    }
   ],
   "source": [
    "#Defining a function that takes the user inputs for savings account calculation\n",
    "def main():\n",
    "    \"\"\"Takes user inputs for savings and CD calculation and returns the created accounts.\n",
    "\n",
    "    Prompts the user to enter the initial balance, interest rate, and number of months each\n",
    "    for the Savings Account and CD.\n",
    "    Calls the create_savings_account or create_cd_account function with the user inputs \n",
    "    to calculate savings account details.\n",
    "\n",
    "    Returns:\n",
    "        my_account: An instance of the Account class representing the created savings account.\n",
    "        my_cd: An instance of the Account class representing the created CD account.\n",
    "    \"\"\"\n",
    "    #setting variables with user inputs for the savings account\n",
    "    balance=float(input(\"Enter initial Savings Account balance:\"))\n",
    "    interest=float(input(\"Enter the Savings Account interest rate:\"))\n",
    "    months=int(input(\"Enter the Savings Account number of months:\"))\n",
    "    #calling the savings account function to pass the user inputs into the account for calculation\n",
    "    my_account=create_savings_account(balance,interest,months)\n",
    "    \n",
    "    #setting variables with user inputs for the CD\n",
    "    balance=float(input(\"Enter initial CD Account balance:\"))\n",
    "    interest=float(input(\"Enter the CD Account interest rate:\"))\n",
    "    months=int(input(\"Enter the CD Account number of months:\"))\n",
    "    my_cd=create_cd_account(balance,interest,months)\n",
    "\n",
    "    #Calculating totals\n",
    "    print(\"TOTAL\")\n",
    "    print(\"-\"*42)\n",
    "    total_balance=my_account.balance+my_cd.balance\n",
    "    total_interest=my_account.interest+my_cd.interest\n",
    "    print(f\"At the end of the CD and Savings Account durations,\\n\"\n",
    "          f\"you will have earned ${total_interest:,.2f} in interest,\\n\" \n",
    "          f\"for a total of ${total_balance:,.2f}.\")\n",
    "    \n",
    "#running this function takes user inputs and returns all print functions     \n",
    "main()\n"
   ]
  }
 ],
 "metadata": {
  "kernelspec": {
   "display_name": "base",
   "language": "python",
   "name": "python3"
  },
  "language_info": {
   "codemirror_mode": {
    "name": "ipython",
    "version": 3
   },
   "file_extension": ".py",
   "mimetype": "text/x-python",
   "name": "python",
   "nbconvert_exporter": "python",
   "pygments_lexer": "ipython3",
   "version": "3.11.7"
  }
 },
 "nbformat": 4,
 "nbformat_minor": 2
}
