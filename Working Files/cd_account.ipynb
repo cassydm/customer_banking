{
 "cells": [
  {
   "cell_type": "code",
   "execution_count": 6,
   "metadata": {},
   "outputs": [],
   "source": [
    "#import account class from account.py\n",
    "from Account_work import Account"
   ]
  },
  {
   "cell_type": "code",
   "execution_count": 7,
   "metadata": {},
   "outputs": [],
   "source": [
    "def create_cd_account(balance, interest, months):\n",
    "    \"\"\"Creates a CD account, calculates interest earned, and updates the account balance.\n",
    "\n",
    "    Args:\n",
    "        balance (float): The initial CD account balance.\n",
    "        interest (float): The APR interest rate for the CD account.\n",
    "        months (int): The length of months for the CD.\n",
    "\n",
    "    Returns:\n",
    "        float: The updated CD account balance after adding the interest earned.\n",
    "        And returns the interest earned.\n",
    "    \"\"\"\n",
    "    #creating the instance of Account\n",
    "    my_cd=Account(balance,interest)\n",
    "    #printing intitial balance information\n",
    "    print(f\"Your CD account details:\")\n",
    "    print(\"-\"*42)\n",
    "    print(f\"Starting balance: ${my_cd.balance:,.2f}\")\n",
    "    print(f\"APR: {interest:.2f}%\")\n",
    "    print(f\"Months: {months}\")\n",
    "    print(\"-\"*42)\n",
    "    #performing calculations and storing as variables\n",
    "    earned_interest = balance * (interest / 100 * months / 12)\n",
    "    updated_balance = balance+earned_interest\n",
    "    #using the Account class functions to update the balance and interest earned.\n",
    "    my_cd.set_interest(earned_interest)\n",
    "    my_cd.set_balance(updated_balance)\n",
    "    #printing the information for the user\n",
    "    print(f\"Earned interest on ${balance:,.2f} after {months} months: ${my_cd.interest:,.2f}\")\n",
    "    print(f\"Your new balance is ${my_cd.balance:,.2f}\")\n",
    "    print(\"-\"*42)\n",
    "    #returning account instance for input function\n",
    "    return my_cd"
   ]
  },
  {
   "cell_type": "code",
   "execution_count": 8,
   "metadata": {},
   "outputs": [
    {
     "name": "stdout",
     "output_type": "stream",
     "text": [
      "Your account details:\n",
      "------------------------------------------\n",
      "Starting balance: $520.00\n",
      "APR: 25.00%\n",
      "Months: 3\n",
      "------------------------------------------\n",
      "Earned interest on $520.00 after 3 months: $32.50\n",
      "Your new balance is $552.50\n",
      "------------------------------------------\n"
     ]
    }
   ],
   "source": [
    "#Defining a function that takes the user inputs for savings account calculation\n",
    "def main():\n",
    "    \"\"\"Takes user inputs for savings account calculation and returns the created account.\n",
    "\n",
    "    Prompts the user to enter the initial balance, interest rate, and number of months.\n",
    "    Calls the create_cd_account function with the user inputs to calculate savings account details.\n",
    "\n",
    "    Returns:\n",
    "        Account: An instance of the Account class representing the created savings account.\n",
    "    \"\"\"\n",
    "    #setting variables with user inputs\n",
    "    balance=float(input(\"Enter initial balance:\"))\n",
    "    interest=float(input(\"Enter the interest rate:\"))\n",
    "    months=int(input(\"Enter number of months:\"))\n",
    "    #calling the prev function to pass the user inputs into the account for calculation\n",
    "    my_cd=create_cd_account(balance,interest,months)\n",
    "    \n",
    "#running this function takes user inputs and returns all print functions     \n",
    "main()"
   ]
  }
 ],
 "metadata": {
  "kernelspec": {
   "display_name": "base",
   "language": "python",
   "name": "python3"
  },
  "language_info": {
   "codemirror_mode": {
    "name": "ipython",
    "version": 3
   },
   "file_extension": ".py",
   "mimetype": "text/x-python",
   "name": "python",
   "nbconvert_exporter": "python",
   "pygments_lexer": "ipython3",
   "version": "3.11.7"
  }
 },
 "nbformat": 4,
 "nbformat_minor": 2
}
