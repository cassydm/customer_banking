{
 "cells": [
  {
   "cell_type": "code",
   "execution_count": 68,
   "metadata": {},
   "outputs": [],
   "source": [
    "#import account class from account.py\n",
    "from Account_work import Account\n"
   ]
  },
  {
   "cell_type": "code",
   "execution_count": 80,
   "metadata": {},
   "outputs": [],
   "source": [
    "# Create an instance of the `Account` class and pass in the balance and interest parameters.\n",
    "def create_savings_account(balance,interest,months):\n",
    "    \"\"\"Creates a savings account, calculates interest earned, and updates the account balance.\n",
    "\n",
    "    Args:\n",
    "        balance (float): The initial savings account balance.\n",
    "        interest_rate (float): The APR interest rate for the savings account.\n",
    "        months (int): The length of months to determine the amount of interest.\n",
    "\n",
    "    Returns:\n",
    "        float: The updated savings account balance after adding the interest earned.\n",
    "        And returns the interest earned.\n",
    "    \"\"\"\n",
    "    #creating the instance of Account\n",
    "    my_account=Account(balance,interest)\n",
    "    #printing intitial balance information\n",
    "    print(f\"Your account details:\")\n",
    "    print(\"-\"*42)\n",
    "    print(f\"Starting balance: ${my_account.balance:,.2f}\")\n",
    "    print(f\"APR: {interest:.2f}%\")\n",
    "    print(f\"Months: {months}\")\n",
    "    print(\"-\"*42)\n",
    "    #performing calculations and storing as variables\n",
    "    earned_interest = balance * (interest / 100 * months / 12)\n",
    "    updated_balance = balance+earned_interest\n",
    "    #using the Account class functions to update the balance and interest earned.\n",
    "    my_account.set_interest(earned_interest)\n",
    "    my_account.set_balance(updated_balance)\n",
    "    #printing the information for the user\n",
    "    print(f\"Earned interest on ${balance:,.2f} after {months} months: ${my_account.interest:,.2f}\")\n",
    "    print(f\"Your new balance is ${my_account.balance:,.2f}\")\n",
    "    print(\"-\"*42)\n",
    "    #returning account instance for input function\n",
    "    return my_account\n",
    "\n"
   ]
  },
  {
   "cell_type": "code",
   "execution_count": 81,
   "metadata": {},
   "outputs": [
    {
     "name": "stdout",
     "output_type": "stream",
     "text": [
      "Your account details:\n",
      "------------------------------------------\n",
      "Starting balance: $532.20\n",
      "APR: 5.00%\n",
      "Months: 36\n",
      "------------------------------------------\n",
      "Earned interest on $532.20 after 36 months:\n",
      "$79.83\n",
      "Your new balance is $612.03\n",
      "------------------------------------------\n"
     ]
    }
   ],
   "source": [
    "#Defining a function that takes the user inputs for savings account calculation\n",
    "def info_func():\n",
    "    \"\"\"Takes user inputs for savings account calculation and returns the created account.\n",
    "\n",
    "    Prompts the user to enter the initial balance, interest rate, and number of months.\n",
    "    Calls the create_savings_account function with the user inputs to calculate savings account details.\n",
    "\n",
    "    Returns:\n",
    "        Account: An instance of the Account class representing the created savings account.\n",
    "    \"\"\"\n",
    "    #setting variables with user inputs\n",
    "    balance=float(input(\"Enter initial balance:\"))\n",
    "    interest=float(input(\"Enter the interest rate:\"))\n",
    "    months=int(input(\"Enter number of months:\"))\n",
    "    #calling the prev function to pass the user inputs into the account for calculation\n",
    "    my_account=create_savings_account(balance,interest,months)\n",
    "    \n",
    "#running this function takes user inputs and returns all print functions     \n",
    "info_func()\n"
   ]
  }
 ],
 "metadata": {
  "kernelspec": {
   "display_name": "base",
   "language": "python",
   "name": "python3"
  },
  "language_info": {
   "codemirror_mode": {
    "name": "ipython",
    "version": 3
   },
   "file_extension": ".py",
   "mimetype": "text/x-python",
   "name": "python",
   "nbconvert_exporter": "python",
   "pygments_lexer": "ipython3",
   "version": "3.11.7"
  }
 },
 "nbformat": 4,
 "nbformat_minor": 2
}
