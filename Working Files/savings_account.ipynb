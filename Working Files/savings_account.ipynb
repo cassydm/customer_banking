{
 "cells": [
  {
   "cell_type": "code",
   "execution_count": 8,
   "metadata": {},
   "outputs": [],
   "source": [
    "#import account class from account.py\n",
    "from Account_work import Account"
   ]
  },
  {
   "cell_type": "code",
   "execution_count": 18,
   "metadata": {},
   "outputs": [],
   "source": [
    "#creating a savings account function\n",
    "def create_savings_account(balance,interest_rate, months):\n",
    "    \"\"\"Creates a savings account, calculates interest earned, and updates the account balance.\n",
    "\n",
    "    Args:\n",
    "        balance (float): The initial savings account balance.\n",
    "        interest_rate (float): The APR interest rate for the savings account.\n",
    "        months (int): The length of months to determine the amount of interest.\n",
    "\n",
    "    Returns:\n",
    "        float: The updated savings account balance after adding the interest earned.\n",
    "        And returns the interest earned.\n",
    "    \"\"\"\n",
    "    print(f\"Your starting balance is ${balance:.2f}.\\n\"\n",
    "          f\"Your interest rate is {interest_rate}%.\\n\"\n",
    "          f\"The number of months is {months}.\")\n",
    "\n"
   ]
  },
  {
   "cell_type": "code",
   "execution_count": 19,
   "metadata": {},
   "outputs": [
    {
     "name": "stdout",
     "output_type": "stream",
     "text": [
      "Your starting balance is $3000.00.\n",
      "Your interest rate is 0.05%.\n",
      "The number of months is 4.\n"
     ]
    }
   ],
   "source": [
    "create_savings_account(balance=3000,interest_rate=.05,months=4)"
   ]
  }
 ],
 "metadata": {
  "kernelspec": {
   "display_name": "base",
   "language": "python",
   "name": "python3"
  },
  "language_info": {
   "codemirror_mode": {
    "name": "ipython",
    "version": 3
   },
   "file_extension": ".py",
   "mimetype": "text/x-python",
   "name": "python",
   "nbconvert_exporter": "python",
   "pygments_lexer": "ipython3",
   "version": "3.11.7"
  }
 },
 "nbformat": 4,
 "nbformat_minor": 2
}
